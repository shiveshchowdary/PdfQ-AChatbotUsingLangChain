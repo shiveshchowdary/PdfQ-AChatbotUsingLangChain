{
 "cells": [
  {
   "cell_type": "code",
   "execution_count": 1,
   "metadata": {},
   "outputs": [
    {
     "name": "stdin",
     "output_type": "stream",
     "text": [
      "Open API key ········\n"
     ]
    }
   ],
   "source": [
    "from getpass import getpass\n",
    "OPENAI_API_KEY = getpass(\"Open API key\")"
   ]
  },
  {
   "cell_type": "code",
   "execution_count": 3,
   "metadata": {},
   "outputs": [],
   "source": [
    "from PyPDF2 import PdfReader\n",
    "\n",
    "from langchain.text_splitter import RecursiveCharacterTextSplitter\n",
    "from langchain.embeddings.openai import OpenAIEmbeddings\n",
    "from langchain.vectorstores import FAISS\n",
    "from langchain.chains.question_answering import load_qa_chain\n",
    "from langchain.llms import OpenAI"
   ]
  },
  {
   "cell_type": "code",
   "execution_count": 4,
   "metadata": {},
   "outputs": [
    {
     "name": "stderr",
     "output_type": "stream",
     "text": [
      "/Users/shiveshkodali/anaconda3/envs/env1/lib/python3.9/site-packages/langchain_core/_api/deprecation.py:117: LangChainDeprecationWarning: The class `langchain_community.chat_models.openai.ChatOpenAI` was deprecated in langchain-community 0.1.0 and will be removed in 0.2.0. Use langchain_openai.ChatOpenAI instead.\n",
      "  warn_deprecated(\n"
     ]
    }
   ],
   "source": [
    "from langchain.chat_models import ChatOpenAI\n",
    "\n",
    "chat = ChatOpenAI(\n",
    "    openai_api_key = OPENAI_API_KEY,\n",
    "    temperature = 0,\n",
    "    model = 'gpt-3.5-turbo'\n",
    ")\n",
    "\n",
    "from langchain.schema import SystemMessage, HumanMessage, AIMessage\n",
    "\n",
    "messages = [\n",
    "    SystemMessage(content=\"You are a helpful assistant who \"),\n",
    "    HumanMessage(content=\"Hi AI, how are you today?\"),\n",
    "    AIMessage(content=\"I'm great thank you. How can I help you?\"),\n",
    "    HumanMessage(content=\"I'd like to understand string theory.\")\n",
    "]"
   ]
  },
  {
   "cell_type": "code",
   "execution_count": 5,
   "metadata": {},
   "outputs": [
    {
     "name": "stderr",
     "output_type": "stream",
     "text": [
      "/Users/shiveshkodali/anaconda3/envs/env1/lib/python3.9/site-packages/langchain_core/_api/deprecation.py:117: LangChainDeprecationWarning: The function `__call__` was deprecated in LangChain 0.1.7 and will be removed in 0.2.0. Use invoke instead.\n",
      "  warn_deprecated(\n"
     ]
    },
    {
     "name": "stdout",
     "output_type": "stream",
     "text": [
      "String theory is a theoretical framework in physics that aims to describe the fundamental nature of particles and their interactions. It suggests that the fundamental building blocks of the universe are not point-like particles, but tiny, vibrating strings.\n",
      "\n",
      "Here are some key points to understand about string theory:\n",
      "\n",
      "1. Fundamental particles: In string theory, particles are not considered to be point-like objects, but rather tiny, one-dimensional strings. These strings can vibrate in different modes, and the different vibrational patterns give rise to different particles with varying properties, such as mass and charge.\n",
      "\n",
      "2. Extra dimensions: String theory requires the existence of additional spatial dimensions beyond the three dimensions of space we are familiar with. These extra dimensions are compactified or curled up at extremely small scales, making them undetectable in our everyday experience.\n",
      "\n",
      "3. Unification of forces: String theory attempts to unify all the fundamental forces of nature, including gravity, electromagnetism, and the strong and weak nuclear forces. It suggests that these forces arise from the vibrational modes of the strings.\n",
      "\n",
      "4. Multiverse: String theory also suggests the possibility of a multiverse, where our universe is just one of many possible universes. Each universe within the multiverse could have different physical laws and properties, depending on the specific configuration of strings.\n",
      "\n",
      "5. Challenges: Despite its potential, string theory is still a work in progress and faces several challenges. One major challenge is the lack of experimental evidence to confirm its predictions. Additionally, there are different versions of string theory, such as superstring theory and M-theory, which are still being developed and refined.\n",
      "\n",
      "It's important to note that string theory is a highly complex and mathematical theory, and understanding it in detail requires a strong background in physics and mathematics. However, these key points should give you a general idea of what string theory is all about.\n"
     ]
    }
   ],
   "source": [
    "res = chat(messages)\n",
    "print(res.content)"
   ]
  },
  {
   "cell_type": "code",
   "execution_count": 6,
   "metadata": {},
   "outputs": [],
   "source": [
    "file_path = 'MSDS_RESUME_TEMPLATE.pdf'"
   ]
  },
  {
   "cell_type": "code",
   "execution_count": 7,
   "metadata": {},
   "outputs": [],
   "source": [
    "with open(file_path, 'rb') as file:   \n",
    "    pdf_reader = PdfReader(file)\n",
    "    \n",
    "    text = \"\"\n",
    "    for page in pdf_reader.pages:\n",
    "        text+=page.extract_text()\n",
    "        \n",
    "text_splitter = RecursiveCharacterTextSplitter(\n",
    "            separators=[\"\\n\\n\",'\\n',' ', ''],\n",
    "            chunk_size = 200,\n",
    "            chunk_overlap = 20,\n",
    "            length_function = len\n",
    ")"
   ]
  },
  {
   "cell_type": "code",
   "execution_count": 8,
   "metadata": {},
   "outputs": [
    {
     "name": "stderr",
     "output_type": "stream",
     "text": [
      "/Users/shiveshkodali/anaconda3/envs/env1/lib/python3.9/site-packages/langchain_core/_api/deprecation.py:117: LangChainDeprecationWarning: The class `langchain_community.embeddings.openai.OpenAIEmbeddings` was deprecated in langchain-community 0.1.0 and will be removed in 0.2.0. Use langchain_openai.OpenAIEmbeddings instead.\n",
      "  warn_deprecated(\n"
     ]
    }
   ],
   "source": [
    "chunks = text_splitter.split_text(text)\n",
    "embeddings = OpenAIEmbeddings(openai_api_key=OPENAI_API_KEY)\n",
    "knowledge_base = FAISS.from_texts(chunks, embeddings)"
   ]
  },
  {
   "cell_type": "code",
   "execution_count": 9,
   "metadata": {},
   "outputs": [],
   "source": [
    "question = \"Whos resume is this?\""
   ]
  },
  {
   "cell_type": "code",
   "execution_count": 10,
   "metadata": {},
   "outputs": [],
   "source": [
    "from langchain.prompts.chat import HumanMessagePromptTemplate, ChatPromptTemplate"
   ]
  },
  {
   "cell_type": "code",
   "execution_count": 11,
   "metadata": {},
   "outputs": [],
   "source": [
    "docs = knowledge_base.similarity_search(question)"
   ]
  },
  {
   "cell_type": "code",
   "execution_count": 12,
   "metadata": {},
   "outputs": [],
   "source": [
    "system = \"You are a Helpful assistant who answers questions based on the information user gives you\"\n",
    "context = docs[0].page_content + '\\n\\n' + docs[1].page_content + '\\n\\n' + docs[2].page_content + '\\n\\n' + docs[3].page_content + '\\n\\n' \n",
    "input = \"Answer the question by looking at the context given and make sure that the answer is no more than 150 characters. both context and question are given below\\n\""
   ]
  },
  {
   "cell_type": "code",
   "execution_count": 13,
   "metadata": {},
   "outputs": [],
   "source": [
    "messages = [\n",
    "    SystemMessage(content = system),\n",
    "    HumanMessage(content = f\"{input} CONTEXT : {context} \\n QUESTION : {question}\")\n",
    "]"
   ]
  },
  {
   "cell_type": "code",
   "execution_count": 14,
   "metadata": {},
   "outputs": [],
   "source": [
    "res = chat(messages)"
   ]
  },
  {
   "cell_type": "code",
   "execution_count": 15,
   "metadata": {},
   "outputs": [],
   "source": [
    "messages.append(res)"
   ]
  },
  {
   "cell_type": "code",
   "execution_count": 16,
   "metadata": {},
   "outputs": [
    {
     "data": {
      "text/plain": [
       "AIMessage(content=\"This is Shivesh's resume.\")"
      ]
     },
     "execution_count": 16,
     "metadata": {},
     "output_type": "execute_result"
    }
   ],
   "source": [
    "res"
   ]
  },
  {
   "cell_type": "code",
   "execution_count": 17,
   "metadata": {},
   "outputs": [],
   "source": [
    "question = \"Okay so how many internships did he do and name them?\""
   ]
  },
  {
   "cell_type": "code",
   "execution_count": 18,
   "metadata": {},
   "outputs": [],
   "source": [
    "docs = knowledge_base.similarity_search(question)"
   ]
  },
  {
   "cell_type": "code",
   "execution_count": 19,
   "metadata": {},
   "outputs": [],
   "source": [
    "context = docs[0].page_content + '\\n\\n' + docs[1].page_content + '\\n\\n' + docs[2].page_content + '\\n\\n' + docs[3].page_content + '\\n\\n' \n",
    "input = \"Answer the question by looking at the context given and make sure that the answer is atleast 100 characters. both context and question are given below\\n\""
   ]
  },
  {
   "cell_type": "code",
   "execution_count": 20,
   "metadata": {},
   "outputs": [],
   "source": [
    "messages.append(HumanMessage(content = f\"{input} CONTEXT : {context} \\n QUESTION : {question}\"))"
   ]
  },
  {
   "cell_type": "code",
   "execution_count": 21,
   "metadata": {},
   "outputs": [],
   "source": [
    "res = chat(messages)"
   ]
  },
  {
   "cell_type": "code",
   "execution_count": 22,
   "metadata": {},
   "outputs": [
    {
     "data": {
      "text/plain": [
       "AIMessage(content='Shivesh did two internships. The first one was as a Remote Artificial Intelligence Intern at AiHello, and the second one was as a Data Science Intern at Locobuzz.')"
      ]
     },
     "execution_count": 22,
     "metadata": {},
     "output_type": "execute_result"
    }
   ],
   "source": [
    "res"
   ]
  },
  {
   "cell_type": "code",
   "execution_count": 23,
   "metadata": {},
   "outputs": [],
   "source": [
    "question = \"Okay tell me about his first internship?\""
   ]
  },
  {
   "cell_type": "code",
   "execution_count": 24,
   "metadata": {},
   "outputs": [],
   "source": [
    "docs = knowledge_base.similarity_search(question)"
   ]
  },
  {
   "cell_type": "code",
   "execution_count": 25,
   "metadata": {},
   "outputs": [],
   "source": [
    "context = docs[0].page_content + '\\n\\n' + docs[1].page_content + '\\n\\n' + docs[2].page_content + '\\n\\n' + docs[3].page_content + '\\n\\n' \n",
    "input = \"Answer the question by looking at the context given and make sure that the answer is atleast 100 characters. both context and question are given below\\n\""
   ]
  },
  {
   "cell_type": "code",
   "execution_count": 26,
   "metadata": {},
   "outputs": [],
   "source": [
    "messages.append(HumanMessage(content = f\"{input} CONTEXT : {context} \\n QUESTION : {question}\"))"
   ]
  },
  {
   "cell_type": "code",
   "execution_count": 27,
   "metadata": {},
   "outputs": [],
   "source": [
    "res = chat(messages)"
   ]
  },
  {
   "cell_type": "code",
   "execution_count": 28,
   "metadata": {},
   "outputs": [
    {
     "data": {
      "text/plain": [
       "AIMessage(content=\"Shivesh's first internship was as a Data Science Intern at Locobuzz in Mumbai, Maharashtra, India from Mar 2021 to May 2021.\")"
      ]
     },
     "execution_count": 28,
     "metadata": {},
     "output_type": "execute_result"
    }
   ],
   "source": [
    "res"
   ]
  },
  {
   "cell_type": "code",
   "execution_count": null,
   "metadata": {},
   "outputs": [],
   "source": []
  }
 ],
 "metadata": {
  "kernelspec": {
   "display_name": "env1",
   "language": "python",
   "name": "env1"
  },
  "language_info": {
   "codemirror_mode": {
    "name": "ipython",
    "version": 3
   },
   "file_extension": ".py",
   "mimetype": "text/x-python",
   "name": "python",
   "nbconvert_exporter": "python",
   "pygments_lexer": "ipython3",
   "version": "3.9.18"
  }
 },
 "nbformat": 4,
 "nbformat_minor": 4
}
